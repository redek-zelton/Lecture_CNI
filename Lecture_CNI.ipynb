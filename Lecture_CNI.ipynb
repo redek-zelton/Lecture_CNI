{
 "cells": [
  {
   "cell_type": "markdown",
   "metadata": {},
   "source": [
    "<h1>LECTURE DE CARTE CNI<h1>\n",
    "<h3> Il arrive parfois ,et même souvent que vous perdiez votre clé ubs contenant tous vos fichiers PDF. Heuresement que vous avez la version papier des PDF.<h3>\n",
    "<h2> Flemme de tous retaper, voici la solution appliquée à une carte d identité Française<h2>"
   ]
  },
  {
   "cell_type": "code",
   "execution_count": 1,
   "metadata": {},
   "outputs": [
    {
     "name": "stdout",
     "output_type": "stream",
     "text": [
      "Requirement already satisfied: opencv-python in c:\\users\\antoi\\anaconda3\\lib\\site-packages (4.4.0.46)\n",
      "Requirement already satisfied: numpy>=1.14.5 in c:\\users\\antoi\\anaconda3\\lib\\site-packages (from opencv-python) (1.19.2)\n",
      "Requirement already satisfied: pillow in c:\\users\\antoi\\anaconda3\\lib\\site-packages (8.0.1)\n",
      "Requirement already satisfied: tesseract in c:\\users\\antoi\\anaconda3\\lib\\site-packages (0.1.3)\n",
      "Requirement already satisfied: pytesseract==0.3.6 in c:\\users\\antoi\\anaconda3\\lib\\site-packages (0.3.6)\n",
      "Requirement already satisfied: Pillow in c:\\users\\antoi\\anaconda3\\lib\\site-packages (from pytesseract==0.3.6) (8.0.1)\n",
      "Requirement already satisfied: scipy in c:\\users\\antoi\\anaconda3\\lib\\site-packages (1.5.2)\n",
      "Requirement already satisfied: numpy>=1.14.5 in c:\\users\\antoi\\anaconda3\\lib\\site-packages (from scipy) (1.19.2)\n",
      "Requirement already satisfied: imutils in c:\\users\\antoi\\anaconda3\\lib\\site-packages (0.5.3)\n"
     ]
    }
   ],
   "source": [
    "#Configuration\n",
    "!pip install opencv-python\n",
    "!pip install pillow\n",
    "!pip install tesseract\n",
    "!pip install pytesseract==0.3.6\n",
    "!pip install scipy\n",
    "!pip install imutils"
   ]
  },
  {
   "cell_type": "code",
   "execution_count": 231,
   "metadata": {},
   "outputs": [],
   "source": [
    "import cv2\n",
    "import numpy as np\n",
    "import pytesseract\n",
    "from PIL import Image\n",
    "import imutils\n",
    "import matplotlib.pyplot as plt\n",
    "from skimage import measure, morphology\n",
    "from skimage.color import label2rgb\n",
    "from skimage.measure import regionprops"
   ]
  },
  {
   "cell_type": "markdown",
   "metadata": {},
   "source": [
    "### Objectif du projet"
   ]
  },
  {
   "cell_type": "code",
   "execution_count": 232,
   "metadata": {},
   "outputs": [],
   "source": [
    "def read(img_path):\n",
    "    \n",
    "    print ('--- Start recognize text from image ---')\n",
    "    \n",
    "    #stringToMatch = '(NI)'\n",
    "\n",
    "    result1 = pytesseract.image_to_string(Image.open(img_path))\n",
    "    #print (result1)\n",
    "    #print(\"=============================================\")\n",
    "\n",
    "    #idx_string = result1.find(stringToMatch)\n",
    "    #result2 = filter(lambda x : x.isdigit(), result1[idx_string:])\n",
    "    return result1"
   ]
  },
  {
   "cell_type": "code",
   "execution_count": 233,
   "metadata": {},
   "outputs": [
    {
     "name": "stdout",
     "output_type": "stream",
     "text": [
      "--- Start recognize text from image ---\n",
      "REPUBLIQUE FRANCAISE\n",
      "\n",
      "CARTE NATIONALE D'IDENTITE N°: 012345678987 Nationalité Francaise\n",
      "PA Nom: DURAND\n",
      "\n",
      "Prénom(s): ANTOINE, PAUL, HENRI\n",
      "\n",
      "Sexe : M Néle) le: 01.01.1960\n",
      "a: PARIS ( 75 )\n",
      "\n",
      "Taille: 1,80m\n",
      "Signature —\n",
      "du titulaire :\n",
      "\n",
      "IDFRADURAND<<<<<<<<<<<<<<<<<<<<75000\n",
      "01234567898 7ANTOINE<<PAUL<<1234567A1\n",
      "\f",
      "\n"
     ]
    }
   ],
   "source": [
    "CNI = read(\"extract.jpg\")\n",
    "print(CNI)"
   ]
  },
  {
   "cell_type": "markdown",
   "metadata": {},
   "source": [
    "# Démarche"
   ]
  },
  {
   "cell_type": "markdown",
   "metadata": {},
   "source": [
    "#### Prendre une photo de la carte d'identité en entier, et recouvre au moins 70% de l'image"
   ]
  },
  {
   "cell_type": "markdown",
   "metadata": {},
   "source": [
    "# Pivoter et extraire la Carte"
   ]
  },
  {
   "cell_type": "code",
   "execution_count": 309,
   "metadata": {},
   "outputs": [],
   "source": [
    "#saisir l'image\n",
    "fichier='cni.jpg'\n",
    "img = cv2.imread(fichier)\n",
    "HauteurImage=img.shape[0]\n",
    "LongueurImage= img.shape[1]\n",
    "cv2.imshow(\"image\",img)\n",
    "cv2.waitKey(0)\n",
    "cv2.destroyAllWindows()"
   ]
  },
  {
   "cell_type": "raw",
   "metadata": {},
   "source": [
    "# cv2.cvtColor : Convertit une image d'un espace couleur à un autre.\n",
    "# cv2.GaussianBlur : flouter l'image\n",
    "# cv2.Canny : tracer le contour de l'image quand la différence de gradient est grande\n",
    "# cv2.dilate, cv2.erode : enleve les bruits"
   ]
  },
  {
   "cell_type": "code",
   "execution_count": 310,
   "metadata": {},
   "outputs": [],
   "source": [
    "#filtration moins brutale\n",
    "def preProcessing1(img,LongueurImage,HauteurImage,iteration):\n",
    "    imgCopie=cv2.resize(img,(LongueurImage,HauteurImage))\n",
    "    gray = cv2.cvtColor(imgCopie, cv2.COLOR_BGR2RGB)\n",
    "    blured = cv2.GaussianBlur(gray,(5,5),cv2.BORDER_DEFAULT)\n",
    "    imgCanny= cv2.Canny(blured, 30,15)\n",
    "    kernel = np.ones((5,5))\n",
    "    imgDial = cv2.dilate(imgCanny,kernel,iterations=iteration)\n",
    "    imgThres = cv2.erode(imgDial,kernel,iterations=1)\n",
    "    return imgThres"
   ]
  },
  {
   "cell_type": "code",
   "execution_count": 311,
   "metadata": {},
   "outputs": [],
   "source": [
    "#filtration plus brutale\n",
    "def preProcessing2(img,LongueurImage,HauteurImage,iteration):\n",
    "    imgCopie=cv2.resize(img,(LongueurImage,HauteurImage))\n",
    "    gray = cv2.cvtColor(imgCopie, cv2.COLOR_BGR2RGB)\n",
    "    blured = cv2.GaussianBlur(gray,(5,5),cv2.BORDER_DEFAULT)\n",
    "    imgCanny= cv2.Canny(blured, 80,100)\n",
    "    kernel = np.ones((5,5))\n",
    "    imgDial = cv2.dilate(imgCanny,kernel,iterations=iteration)\n",
    "    imgThres = cv2.erode(imgDial,kernel,iterations=1)\n",
    "    return imgThres"
   ]
  },
  {
   "cell_type": "code",
   "execution_count": 312,
   "metadata": {},
   "outputs": [],
   "source": [
    "# convertir la forme en un rectangle\n",
    "def shape4(biggest):\n",
    "    biggest=biggest\n",
    "    L1=[]\n",
    "    L2=[]\n",
    "    if biggest.shape != (4,1,2):\n",
    "        for i in biggest:\n",
    "            L1.append(i[0][0])\n",
    "            L2.append(i[0][1])\n",
    "        biggest=np.array([[[min(L1),min(L2)]],[[min(L1),max(L2)]],[[max(L1),min(L2)]],[[max(L1),max(L2)]]],np.int32)\n",
    "    return biggest"
   ]
  },
  {
   "cell_type": "code",
   "execution_count": 313,
   "metadata": {},
   "outputs": [],
   "source": [
    "# prendre le contour de la carte\n",
    "def getContours(imgThres):\n",
    "    biggest=np.array([])\n",
    "    maxArea = 0\n",
    "    contours,hierarchy = cv2.findContours(imgThres,cv2.RETR_EXTERNAL,cv2.CHAIN_APPROX_NONE)\n",
    "    for cnt in contours:\n",
    "        area = cv2.contourArea(cnt)\n",
    "        if area>500:\n",
    "            cv2.drawContours(imgThres,cnt,-1,(120,120,120),3)\n",
    "            peri = cv2.arcLength(cnt,True)\n",
    "            approx = cv2.approxPolyDP(cnt,0.02*peri,True)\n",
    "            if area > maxArea and len(approx) in (4,5,6,7,8,9,10):\n",
    "                biggest = approx\n",
    "                maxArea = area\n",
    "    biggest=shape4(biggest)\n",
    "    return biggest"
   ]
  },
  {
   "cell_type": "code",
   "execution_count": 314,
   "metadata": {},
   "outputs": [],
   "source": [
    "#Choisir entre preProcessing 1 ou 2\n",
    "iteration = 3 # augmenter le nombre d'itération pour avoir moins de détaille sur l'image\n",
    "imgThres=preProcessing1(img,LongueurImage,HauteurImage,iteration)\n",
    "getContours(imgThres)\n",
    "cv2.imshow(\"Image\",imgThres)\n",
    "cv2.waitKey(0)\n",
    "cv2.destroyAllWindows()\n",
    "\n",
    "# Quand le contour est assez bien définit, on gardera ces paramètres "
   ]
  },
  {
   "cell_type": "code",
   "execution_count": 315,
   "metadata": {},
   "outputs": [],
   "source": [
    "# réordoner les points du rectangle\n",
    "def reorder(myPoints):\n",
    "    myPoints = myPoints.reshape((4,2))\n",
    "    myPointNew=np.zeros((4,1,2),np.int32)\n",
    "    add=myPoints.sum(1)\n",
    "    myPointNew[0]= myPoints[np.argmin(add)]\n",
    "    myPointNew[3]= myPoints[np.argmax(add)]\n",
    "    diff=np.diff(myPoints,axis=1)\n",
    "    myPointNew[1]= myPoints[np.argmin(diff)]\n",
    "    myPointNew[2]= myPoints[np.argmax(diff)]\n",
    "    return myPointNew"
   ]
  },
  {
   "cell_type": "code",
   "execution_count": 316,
   "metadata": {},
   "outputs": [],
   "source": [
    "#prendre les lignes et colonnes\n",
    "def resize(biggest):\n",
    "    L=[]\n",
    "    H=[]\n",
    "    for i in biggest:\n",
    "        L.append(i[0][0])\n",
    "        H.append(i[0][1])\n",
    "    return L,H\n"
   ]
  },
  {
   "cell_type": "code",
   "execution_count": 317,
   "metadata": {},
   "outputs": [],
   "source": [
    "#prendre la hauteur max\n",
    "def disV(biggest):\n",
    "    L,H = resize(biggest)\n",
    "    Vt1= np.sqrt((L[0]-L[2])**2+(H[0]-H[2])**2)\n",
    "    Vt2= np.sqrt((L[1]-L[3])**2+(H[1]-H[3])**2)\n",
    "    return int(max(Vt1,Vt2)+1)"
   ]
  },
  {
   "cell_type": "code",
   "execution_count": 318,
   "metadata": {},
   "outputs": [],
   "source": [
    "#prendre la longueur max\n",
    "def disH(biggest):\n",
    "    L,H = resize(biggest)\n",
    "    ht1= np.sqrt((L[0]-L[1])**2+(H[0]-H[1])**2)\n",
    "    ht2= np.sqrt((L[2]-L[3])**2+(H[2]-H[3])**2)\n",
    "    return int(max(ht1,ht2)+1)"
   ]
  },
  {
   "cell_type": "code",
   "execution_count": 319,
   "metadata": {},
   "outputs": [],
   "source": [
    "#rogner les contours et extraire l'image avec ses propres dimensions\n",
    "def Crop(img,biggest,LongueurImage,HauteurImage):\n",
    "    imgCopie=cv2.resize(img,(LongueurImage,HauteurImage))\n",
    "    biggest = reorder(biggest)\n",
    "    H=disH(biggest)\n",
    "    V=disV(biggest)\n",
    "    pts1=np.float32(biggest)\n",
    "    pts2=np.float32([[0,0],[H,0],[0,V],[H,V]])\n",
    "    matrix = cv2.getPerspectiveTransform(pts1,pts2)\n",
    "    imgOutput = cv2.warpPerspective(imgCopie,matrix,(H,V))\n",
    "    return imgOutput"
   ]
  },
  {
   "cell_type": "code",
   "execution_count": 320,
   "metadata": {},
   "outputs": [],
   "source": [
    "biggest=getContours(imgThres)\n",
    "imgCrop=Crop(img,biggest,LongueurImage,HauteurImage)\n",
    "cv2.imshow(\"Image\",img)\n",
    "cv2.imshow(\"I\",imgCrop)\n",
    "cv2.waitKey(0)\n",
    "cv2.destroyAllWindows()"
   ]
  },
  {
   "cell_type": "code",
   "execution_count": 321,
   "metadata": {},
   "outputs": [],
   "source": [
    "#Si nécessaire, pivoter l'image\n",
    "angle=0\n",
    "Rotate = imutils.rotate(imgCrop,angle)\n",
    "cv2.imshow(\"Rotate\",Rotate)\n",
    "cv2.waitKey(0)\n",
    "cv2.destroyAllWindows()"
   ]
  },
  {
   "cell_type": "code",
   "execution_count": 322,
   "metadata": {},
   "outputs": [
    {
     "data": {
      "text/plain": [
       "True"
      ]
     },
     "execution_count": 322,
     "metadata": {},
     "output_type": "execute_result"
    }
   ],
   "source": [
    "# L'extraction marche donc, on l'enregistre\n",
    "cv2.imwrite('Recto.jpg', Rotate)\n",
    "#cv2.imwrite('Verso.jpg', Rotate)"
   ]
  },
  {
   "cell_type": "markdown",
   "metadata": {},
   "source": [
    "# Traitement Image"
   ]
  },
  {
   "cell_type": "code",
   "execution_count": 323,
   "metadata": {},
   "outputs": [],
   "source": [
    "Traitement='Recto.jpg'\n",
    "#Traitement='Verso.jpg'\n",
    "Traite = cv2.imread(Traitement)\n",
    "cv2.imshow(\"image\",Traite)\n",
    "cv2.waitKey(0)\n",
    "cv2.destroyAllWindows()"
   ]
  },
  {
   "cell_type": "code",
   "execution_count": 324,
   "metadata": {},
   "outputs": [],
   "source": [
    "# Niveaux de gris\n",
    "def grayscale(image):\n",
    "    return cv2.cvtColor(image, cv2.COLOR_BGR2GRAY)\n",
    "# Réduction de bruits\n",
    "def remove_noise(image):\n",
    "    return cv2.medianBlur(image,1)\n",
    "# Seuillage\n",
    "def thresholding(image,params):\n",
    "    return cv2.threshold(image, params, 255, cv2.THRESH_BINARY + cv2.THRESH_OTSU)[1]\n"
   ]
  },
  {
   "cell_type": "code",
   "execution_count": 325,
   "metadata": {},
   "outputs": [],
   "source": [
    "# modifier le parametre de seuillage\n",
    "params=100\n",
    "Otsu =remove_noise(thresholding(grayscale(Traite),params))"
   ]
  },
  {
   "cell_type": "code",
   "execution_count": 326,
   "metadata": {},
   "outputs": [],
   "source": [
    "cv2.imshow(\"Otsu\",Otsu)\n",
    "cv2.imshow(\"Traite\",Traite)\n",
    "cv2.waitKey(0)\n",
    "cv2.destroyAllWindows()"
   ]
  },
  {
   "cell_type": "code",
   "execution_count": 327,
   "metadata": {},
   "outputs": [
    {
     "data": {
      "text/plain": [
       "True"
      ]
     },
     "execution_count": 327,
     "metadata": {},
     "output_type": "execute_result"
    }
   ],
   "source": [
    "# Sauvegarde\n",
    "cv2.imwrite('Otsu_Recto.jpg', Otsu)\n",
    "#cv2.imwrite('Otsu_Verso.jpg', Otsu)"
   ]
  },
  {
   "cell_type": "markdown",
   "metadata": {},
   "source": [
    "# Lecture Image"
   ]
  },
  {
   "cell_type": "code",
   "execution_count": 328,
   "metadata": {
    "scrolled": true
   },
   "outputs": [
    {
     "name": "stdout",
     "output_type": "stream",
     "text": [
      "--- Start recognize text from image ---\n",
      "REPUBLIQUE FRANCAISE\n",
      "\n",
      "CARTE NATIONALE D'IDENTITE N°: 012345678987 Nationalité Francaise\n",
      "PA Nom: DURAND\n",
      "\n",
      "Prénom(s): ANTOINE, PAUL, HENRI\n",
      "\n",
      "Sexe : M Néle) le: 01.01.1960\n",
      "a: PARIS ( 75 )\n",
      "\n",
      "Taille: 1,80m\n",
      "Signature —\n",
      "du titulaire :\n",
      "\n",
      "IDFRADURAND<<<<<<<<<<<<<<<<<<<<75000\n",
      "01234567898 7ANTOINE<<PAUL<<1234567A1\n",
      "\f",
      "\n"
     ]
    }
   ],
   "source": [
    "CNI_Traite = read(Traitement)\n",
    "print(CNI_Traite)"
   ]
  },
  {
   "cell_type": "code",
   "execution_count": 329,
   "metadata": {},
   "outputs": [
    {
     "name": "stdout",
     "output_type": "stream",
     "text": [
      "--- Start recognize text from image ---\n",
      "REPUBLIQUE FRANCAISE\n",
      "\n",
      "CARTE NATIONALE D'IDENTITE N°: 012345678987 Nationalité Francaise\n",
      "Pk Nom; DURAND\n",
      "\n",
      "Prénom(s): ANTOINE, PAOL, HENRI\n",
      "\n",
      "Sexe: M Néfe)le: 01.01.1960\n",
      "4: PARIS { 75 )\n",
      "\n",
      "Tailte: 1, 80m.\n",
      "Signature —\n",
      "du titulaire :\n",
      "\n",
      "IDFRADURAND<<<<<<<<<xeceeex<e<<<75000\n",
      "01234567898 7ANTOINE<<PAUL<<1234567A1\n",
      "\f",
      "\n"
     ]
    }
   ],
   "source": [
    "CNI_Otsu = read('Otsu_Recto.jpg')\n",
    "#CNI_Otsu = read('Otsu_Verso.jpg')\n",
    "print(CNI_Otsu)"
   ]
  },
  {
   "cell_type": "code",
   "execution_count": 330,
   "metadata": {},
   "outputs": [
    {
     "data": {
      "text/plain": [
       "False"
      ]
     },
     "execution_count": 330,
     "metadata": {},
     "output_type": "execute_result"
    }
   ],
   "source": [
    "CNI_Otsu == CNI_Traite # comparaison simple"
   ]
  },
  {
   "cell_type": "markdown",
   "metadata": {},
   "source": [
    "# Extraction du visage"
   ]
  },
  {
   "cell_type": "code",
   "execution_count": 331,
   "metadata": {},
   "outputs": [
    {
     "name": "stdout",
     "output_type": "stream",
     "text": [
      "[INFO] Found 1 Faces.\n"
     ]
    },
    {
     "data": {
      "text/plain": [
       "True"
      ]
     },
     "execution_count": 331,
     "metadata": {},
     "output_type": "execute_result"
    }
   ],
   "source": [
    "import cv2\n",
    "import sys\n",
    "\n",
    "imagePath = sys.argv[1]\n",
    "\n",
    "# mettre ici Recto.jpg\n",
    "image = cv2.imread(\"nettetest.jpg\")\n",
    "gray = cv2.cvtColor(image, cv2.COLOR_BGR2GRAY)\n",
    "\n",
    "faceCascade = cv2.CascadeClassifier(cv2.data.haarcascades + \"haarcascade_frontalface_default.xml\")\n",
    "faces = faceCascade.detectMultiScale(\n",
    "    gray,\n",
    "    scaleFactor=1.3,\n",
    "    minNeighbors=3,\n",
    "    minSize=(30, 30)\n",
    ")\n",
    "\n",
    "print(\"[INFO] Found {0} Faces.\".format(len(faces)))\n",
    "\n",
    "for (x, y, w, h) in faces:\n",
    "    cv2.rectangle(image, (x, y), (x + w, y + h), (0, 255, 0), 2)\n",
    "    Visage = image[y:y + h, x:x + w]\n",
    "    cv2.imshow(\"face\",Visage)\n",
    "    cv2.waitKey(0)\n",
    "    cv2.destroyAllWindows()\n",
    "cv2.imwrite('face.jpg', Visage)"
   ]
  },
  {
   "cell_type": "markdown",
   "metadata": {},
   "source": [
    "# Extraction de la signature (recto/verso)"
   ]
  },
  {
   "cell_type": "code",
   "execution_count": 332,
   "metadata": {},
   "outputs": [],
   "source": [
    "def extract_signature(source_image):\n",
    "\n",
    "    # read the input image\n",
    "    img = cv2.imread(source_image)\n",
    "    img = cv2.cvtColor(img, cv2.COLOR_BGR2GRAY)\n",
    "    img = cv2.threshold(img, 127, 255, cv2.THRESH_BINARY)[1]  # ensure binary\n",
    "    \n",
    "    # crop\n",
    "    HauteurImage=img.shape[0]\n",
    "    LongueurImage= img.shape[1]\n",
    "    H1=int(HauteurImage*0.35)\n",
    "    H2=int(HauteurImage*0.85)\n",
    "    L1=int(LongueurImage*0.30)\n",
    "    L2=int(LongueurImage)\n",
    "    \n",
    "    # reduction\n",
    "    Signature = img[H1:H2, L1:L2]\n",
    "    return Signature"
   ]
  },
  {
   "cell_type": "code",
   "execution_count": 333,
   "metadata": {},
   "outputs": [],
   "source": [
    "S=extract_signature(\"Recto.jpg\")\n",
    "#S=extract_signature(\"Verso.jpg\")\n",
    "cv2.imshow(\"Signature\", S)\n",
    "cv2.waitKey(0)\n",
    "cv2.destroyAllWindows()"
   ]
  },
  {
   "cell_type": "markdown",
   "metadata": {},
   "source": [
    "<a>https://github.com/ahmetozlu/signature_extractor<a>\n",
    "<p>Ce github montre une méthode d'extraction de signature mais je n'arrive pas à l'utiliser<p>"
   ]
  },
  {
   "cell_type": "code",
   "execution_count": 334,
   "metadata": {},
   "outputs": [],
   "source": [
    "# read the input image\n",
    "Sign = cv2.threshold(S, 127, 255, cv2.THRESH_BINARY)[1]  # ensure binary"
   ]
  },
  {
   "cell_type": "code",
   "execution_count": 335,
   "metadata": {},
   "outputs": [
    {
     "name": "stderr",
     "output_type": "stream",
     "text": [
      "C:\\Users\\antoi\\Anaconda3\\lib\\site-packages\\ipykernel_launcher.py:4: FutureWarning: The new recommended value for bg_label is 0. Until version 0.19, the default bg_label value is -1. From version 0.19, the bg_label default value will be 0. To avoid this warning, please explicitly set bg_label value.\n",
      "  after removing the cwd from sys.path.\n"
     ]
    },
    {
     "data": {
      "image/png": "[encoded data removed]",
      "text/plain": [
       "<Figure size 720x432 with 1 Axes>"
      ]
     },
     "metadata": {
      "needs_background": "light"
     },
     "output_type": "display_data"
    }
   ],
   "source": [
    "# connected component analysis by scikit-learn framework\n",
    "blobs = Sign > Sign.mean()\n",
    "blobs_labels = measure.label(blobs, background=1)\n",
    "image_label_overlay = label2rgb(blobs_labels, image=Sign)\n",
    "fig, ax = plt.subplots(figsize=(10, 6))\n",
    "\n",
    "# plot the connected components (for debugging)\n",
    "ax.imshow(image_label_overlay)\n",
    "ax.set_axis_off()\n",
    "plt.tight_layout()\n",
    "plt.show()"
   ]
  },
  {
   "cell_type": "code",
   "execution_count": 336,
   "metadata": {},
   "outputs": [
    {
     "name": "stdout",
     "output_type": "stream",
     "text": [
      "the_biggest_component: 745\n",
      "average: 59.70238095238095\n",
      "a4_constant: 277.68565759637187\n"
     ]
    },
    {
     "data": {
      "text/plain": [
       "True"
      ]
     },
     "execution_count": 336,
     "metadata": {},
     "output_type": "execute_result"
    }
   ],
   "source": [
    "the_biggest_component = 0\n",
    "total_area = 0\n",
    "counter = 0\n",
    "average = 0.0\n",
    "for region in regionprops(blobs_labels):\n",
    "    if (region.area > 10):\n",
    "        total_area = total_area + region.area\n",
    "        counter = counter + 1\n",
    "    # print region.area # (for debugging)\n",
    "    # take regions with large enough areas\n",
    "    if (region.area >= 250):\n",
    "        if (region.area > the_biggest_component):\n",
    "            the_biggest_component = region.area\n",
    "\n",
    "average = (total_area/counter)\n",
    "print(\"the_biggest_component: \" + str(the_biggest_component))\n",
    "print(\"average: \" + str(average))\n",
    "\n",
    "# experimental-based ratio calculation, modify it for your cases a4_constant is used as a threshold value to remove connected pixels are smaller than a4_constant for A4 size scanned documents\n",
    "a4_constant = ((average/84.0)*250.0)+100\n",
    "print(\"a4_constant: \" + str(a4_constant))\n",
    "\n",
    "# remove the connected pixels are smaller than a4_constant\n",
    "b = morphology.remove_small_objects(blobs_labels, a4_constant)\n",
    "\n",
    "# save the the pre-version which is the image is labelled with colors as considering connected components\n",
    "plt.imsave('pre_version.png', b)\n",
    "\n",
    "# read the pre-version\n",
    "Sign = cv2.imread('pre_version.png', 0)\n",
    "\n",
    "# ensure binary\n",
    "img = cv2.threshold(Sign, 0, 255, cv2.THRESH_BINARY_INV | cv2.THRESH_OTSU)[1]\n",
    "\n",
    "# save the the result\n",
    "cv2.imwrite(\"Signature_Recto.png\", Sign)\n",
    "#cv2.imwrite(\"Signature_Verso.png\", Sign)"
   ]
  },
  {
   "cell_type": "code",
   "execution_count": 337,
   "metadata": {},
   "outputs": [],
   "source": [
    "E=extract_signature(\"Signature_Recto.png\")\n",
    "#E=extract_signature(\"Signature_Verso.png\")\n",
    "cv2.imshow(\"Signature\", E)\n",
    "cv2.waitKey(0)\n",
    "cv2.destroyAllWindows()"
   ]
  },
  {
   "cell_type": "markdown",
   "metadata": {},
   "source": [
    "# Conclusion"
   ]
  },
  {
   "cell_type": "markdown",
   "metadata": {},
   "source": [
    "#### Contrairement à tous, la lecture d'image marche mieux dans le cas où l'image n'est pas traitée !  la méthode d'otsu permet de réduire l'image à une image binaire. C'est bien pour enlever les bruits, mais il enleve aussi les détailles ! Ainsi, Ce Notebook permet de traiter des CNI de façon correct, à la fois recto et verso."
   ]
  },
  {
   "cell_type": "code",
   "execution_count": null,
   "metadata": {},
   "outputs": [],
   "source": []
  }
 ],
 "metadata": {
  "kernelspec": {
   "display_name": "Python 3",
   "language": "python",
   "name": "python3"
  },
  "language_info": {
   "codemirror_mode": {
    "name": "ipython",
    "version": 3
   },
   "file_extension": ".py",
   "mimetype": "text/x-python",
   "name": "python",
   "nbconvert_exporter": "python",
   "pygments_lexer": "ipython3",
   "version": "3.7.9"
  }
 },
 "nbformat": 4,
 "nbformat_minor": 4
}
